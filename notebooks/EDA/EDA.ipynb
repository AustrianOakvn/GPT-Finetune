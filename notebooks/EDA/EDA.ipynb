{
 "cells": [
  {
   "cell_type": "code",
   "execution_count": 1,
   "metadata": {},
   "outputs": [],
   "source": [
    "import pandas as pd\n",
    "import os\n",
    "from hydra import initialize, initialize_config_module, initialize_config_dir, compose\n",
    "from omegaconf import OmegaConf\n",
    "import codecs\n",
    "import string\n",
    "from underthesea import word_tokenize"
   ]
  },
  {
   "cell_type": "code",
   "execution_count": 21,
   "metadata": {},
   "outputs": [
    {
     "name": "stderr",
     "output_type": "stream",
     "text": [
      "C:\\Users\\HOANGBH\\AppData\\Local\\Temp\\ipykernel_4320\\2226900647.py:2: UserWarning: \n",
      "The version_base parameter is not specified.\n",
      "Please specify a compatability version level, or None.\n",
      "Will assume defaults for version 1.1\n",
      "  with initialize(config_path=r\"../../config/\"):\n"
     ]
    }
   ],
   "source": [
    "HOME_PATH = r\"../../\"\n",
    "with initialize(config_path=r\"../../config/\"):\n",
    "    data_cfg = compose(config_name=\"data-path.yaml\")\n",
    "data_cfg = OmegaConf.create(data_cfg)"
   ]
  },
  {
   "cell_type": "code",
   "execution_count": 23,
   "metadata": {},
   "outputs": [
    {
     "name": "stdout",
     "output_type": "stream",
     "text": [
      "data/raw/hblab-wiki-full.txt\n"
     ]
    }
   ],
   "source": [
    "RAW_DATA_PTH = data_cfg.hblab_wiki.raw\n",
    "RAW_SMALL_DATA_PTH = data_cfg.hblab_wiki.raw_small\n",
    "print(RAW_DATA_PTH)"
   ]
  },
  {
   "cell_type": "code",
   "execution_count": 24,
   "metadata": {},
   "outputs": [],
   "source": [
    "f = open(os.path.join(HOME_PATH, RAW_SMALL_DATA_PTH), encoding=\"utf-8\")\n",
    "lines = f.readlines()"
   ]
  },
  {
   "cell_type": "code",
   "execution_count": 25,
   "metadata": {},
   "outputs": [],
   "source": [
    "def extract_lines(lines:list):\n",
    "    content = []\n",
    "    for line in lines:\n",
    "        if line == '\\n':\n",
    "            continue\n",
    "        else:\n",
    "            content.append(line)\n",
    "    df = pd.DataFrame({'content': content})\n",
    "    return df\n",
    "\n",
    "def create_stopwordlist():\n",
    "    f = codecs.open('/kaggle/input/vietnamese-stopwords/vietnamese-stopwords.txt', encoding='utf-8')\n",
    "    data = []\n",
    "    null_data = []\n",
    "    for i, line in enumerate(f):\n",
    "        line = repr(line)\n",
    "        line = line[1:len(line)-3]\n",
    "        data.append(line)\n",
    "    return data\n",
    "\n",
    "def tokenize(text, stop_words):\n",
    "    text = text.translate(str.maketrans('', '', string.punctuation))\n",
    "    return [word for word in word_tokenize(text.lower()) if word not in stop_words]\n"
   ]
  },
  {
   "cell_type": "code",
   "execution_count": null,
   "metadata": {},
   "outputs": [],
   "source": [
    "stopword_vn = create_stopwordlist()"
   ]
  },
  {
   "cell_type": "code",
   "execution_count": 26,
   "metadata": {},
   "outputs": [
    {
     "data": {
      "text/html": [
       "<div>\n",
       "<style scoped>\n",
       "    .dataframe tbody tr th:only-of-type {\n",
       "        vertical-align: middle;\n",
       "    }\n",
       "\n",
       "    .dataframe tbody tr th {\n",
       "        vertical-align: top;\n",
       "    }\n",
       "\n",
       "    .dataframe thead th {\n",
       "        text-align: right;\n",
       "    }\n",
       "</style>\n",
       "<table border=\"1\" class=\"dataframe\">\n",
       "  <thead>\n",
       "    <tr style=\"text-align: right;\">\n",
       "      <th></th>\n",
       "      <th>content</th>\n",
       "    </tr>\n",
       "  </thead>\n",
       "  <tbody>\n",
       "    <tr>\n",
       "      <th>0</th>\n",
       "      <td>Mission\\n</td>\n",
       "    </tr>\n",
       "    <tr>\n",
       "      <th>1</th>\n",
       "      <td>Theo đuổi hạnh phúc cho toàn thể nhân viên, ma...</td>\n",
       "    </tr>\n",
       "    <tr>\n",
       "      <th>2</th>\n",
       "      <td>Vision - Mục tiêu 2024\\n</td>\n",
       "    </tr>\n",
       "    <tr>\n",
       "      <th>3</th>\n",
       "      <td>Trở thành một tổ chức với 1000 người cung cấp ...</td>\n",
       "    </tr>\n",
       "    <tr>\n",
       "      <th>4</th>\n",
       "      <td>Trên con đường dài hướng tới mục tiêu: \"Theo đ...</td>\n",
       "    </tr>\n",
       "    <tr>\n",
       "      <th>5</th>\n",
       "      <td>Vision 2024 được vạch ra với niềm tin rằng: vi...</td>\n",
       "    </tr>\n",
       "    <tr>\n",
       "      <th>6</th>\n",
       "      <td>Core Value\\n</td>\n",
       "    </tr>\n",
       "    <tr>\n",
       "      <th>7</th>\n",
       "      <td>Các Core Value của HBLAB\\n</td>\n",
       "    </tr>\n",
       "    <tr>\n",
       "      <th>8</th>\n",
       "      <td>Trách nhiệm sâu sát với công việc: Trách nhiệm...</td>\n",
       "    </tr>\n",
       "    <tr>\n",
       "      <th>9</th>\n",
       "      <td>Chân thành: Chân thành là thành thật, lương th...</td>\n",
       "    </tr>\n",
       "    <tr>\n",
       "      <th>10</th>\n",
       "      <td>Chia sẻ: Chia sẻ là cùng nhau gánh vác công vi...</td>\n",
       "    </tr>\n",
       "    <tr>\n",
       "      <th>11</th>\n",
       "      <td>Liên tục Học Tập và đổi mới: Liên tục học tập ...</td>\n",
       "    </tr>\n",
       "    <tr>\n",
       "      <th>12</th>\n",
       "      <td>Cơ cấu tổ chức\\n</td>\n",
       "    </tr>\n",
       "    <tr>\n",
       "      <th>13</th>\n",
       "      <td>Cơ cấu tổ chức của HBLAB Việt Nam là tổng hợp ...</td>\n",
       "    </tr>\n",
       "    <tr>\n",
       "      <th>14</th>\n",
       "      <td>Hướng dẫn sử dụng logo và tên công ty\\n</td>\n",
       "    </tr>\n",
       "    <tr>\n",
       "      <th>15</th>\n",
       "      <td>https://wiki.hblab.vn/img_auth.php/H%C6%AF%E1%...</td>\n",
       "    </tr>\n",
       "    <tr>\n",
       "      <th>16</th>\n",
       "      <td>HBLAB Wiki là gì?\\n</td>\n",
       "    </tr>\n",
       "    <tr>\n",
       "      <th>17</th>\n",
       "      <td>Sự ra đời của 𝐰𝐢𝐤𝐢.𝐡𝐛𝐥𝐚𝐛.𝐯𝐧 với niềm tin rằng ...</td>\n",
       "    </tr>\n",
       "    <tr>\n",
       "      <th>18</th>\n",
       "      <td>Trước kia, chúng ta hay nhận được các thông ti...</td>\n",
       "    </tr>\n",
       "    <tr>\n",
       "      <th>19</th>\n",
       "      <td>Muốn tìm lại một nội dung thông báo nào đó của...</td>\n",
       "    </tr>\n",
       "    <tr>\n",
       "      <th>20</th>\n",
       "      <td>Chúng ta đã viết rất nhiều trên các nền tảng c...</td>\n",
       "    </tr>\n",
       "    <tr>\n",
       "      <th>21</th>\n",
       "      <td>Nhưng đó vẫn chưa phải là mục tiêu cuối cùng c...</td>\n",
       "    </tr>\n",
       "    <tr>\n",
       "      <th>22</th>\n",
       "      <td>Nếu ai đó đã vào 𝐰𝐢𝐤𝐢.𝐡𝐛𝐥𝐚𝐛.𝐯𝐧 sẽ đều thấy mìn...</td>\n",
       "    </tr>\n",
       "    <tr>\n",
       "      <th>23</th>\n",
       "      <td>Hỡi những người anh em HBLAB, trước khi đặt ph...</td>\n",
       "    </tr>\n",
       "    <tr>\n",
       "      <th>24</th>\n",
       "      <td>Các nội dung trên trang wiki.hblab.vn\\n</td>\n",
       "    </tr>\n",
       "    <tr>\n",
       "      <th>25</th>\n",
       "      <td>Các tài liệu quy trình có thể công khai của cá...</td>\n",
       "    </tr>\n",
       "    <tr>\n",
       "      <th>26</th>\n",
       "      <td>ISMS\\n</td>\n",
       "    </tr>\n",
       "    <tr>\n",
       "      <th>27</th>\n",
       "      <td>Hành Chính Nhân Sự (HCNS)\\n</td>\n",
       "    </tr>\n",
       "    <tr>\n",
       "      <th>28</th>\n",
       "      <td>LnD\\n</td>\n",
       "    </tr>\n",
       "    <tr>\n",
       "      <th>29</th>\n",
       "      <td>Các Bộ Phận Sản Xuất(BPSX)\\n</td>\n",
       "    </tr>\n",
       "  </tbody>\n",
       "</table>\n",
       "</div>"
      ],
      "text/plain": [
       "                                              content\n",
       "0                                           Mission\\n\n",
       "1   Theo đuổi hạnh phúc cho toàn thể nhân viên, ma...\n",
       "2                            Vision - Mục tiêu 2024\\n\n",
       "3   Trở thành một tổ chức với 1000 người cung cấp ...\n",
       "4   Trên con đường dài hướng tới mục tiêu: \"Theo đ...\n",
       "5   Vision 2024 được vạch ra với niềm tin rằng: vi...\n",
       "6                                        Core Value\\n\n",
       "7                          Các Core Value của HBLAB\\n\n",
       "8   Trách nhiệm sâu sát với công việc: Trách nhiệm...\n",
       "9   Chân thành: Chân thành là thành thật, lương th...\n",
       "10  Chia sẻ: Chia sẻ là cùng nhau gánh vác công vi...\n",
       "11  Liên tục Học Tập và đổi mới: Liên tục học tập ...\n",
       "12                                   Cơ cấu tổ chức\\n\n",
       "13  Cơ cấu tổ chức của HBLAB Việt Nam là tổng hợp ...\n",
       "14            Hướng dẫn sử dụng logo và tên công ty\\n\n",
       "15  https://wiki.hblab.vn/img_auth.php/H%C6%AF%E1%...\n",
       "16                                HBLAB Wiki là gì?\\n\n",
       "17  Sự ra đời của 𝐰𝐢𝐤𝐢.𝐡𝐛𝐥𝐚𝐛.𝐯𝐧 với niềm tin rằng ...\n",
       "18  Trước kia, chúng ta hay nhận được các thông ti...\n",
       "19  Muốn tìm lại một nội dung thông báo nào đó của...\n",
       "20  Chúng ta đã viết rất nhiều trên các nền tảng c...\n",
       "21  Nhưng đó vẫn chưa phải là mục tiêu cuối cùng c...\n",
       "22  Nếu ai đó đã vào 𝐰𝐢𝐤𝐢.𝐡𝐛𝐥𝐚𝐛.𝐯𝐧 sẽ đều thấy mìn...\n",
       "23  Hỡi những người anh em HBLAB, trước khi đặt ph...\n",
       "24            Các nội dung trên trang wiki.hblab.vn\\n\n",
       "25  Các tài liệu quy trình có thể công khai của cá...\n",
       "26                                             ISMS\\n\n",
       "27                        Hành Chính Nhân Sự (HCNS)\\n\n",
       "28                                              LnD\\n\n",
       "29                       Các Bộ Phận Sản Xuất(BPSX)\\n"
      ]
     },
     "execution_count": 26,
     "metadata": {},
     "output_type": "execute_result"
    }
   ],
   "source": [
    "df = extract_lines(lines)\n",
    "df.head(30)"
   ]
  },
  {
   "cell_type": "code",
   "execution_count": 27,
   "metadata": {},
   "outputs": [],
   "source": [
    "df.to_csv(\"hblab-wiki-small-df.csv\")"
   ]
  },
  {
   "cell_type": "code",
   "execution_count": null,
   "metadata": {},
   "outputs": [],
   "source": []
  },
  {
   "cell_type": "code",
   "execution_count": null,
   "metadata": {},
   "outputs": [],
   "source": []
  },
  {
   "cell_type": "code",
   "execution_count": null,
   "metadata": {},
   "outputs": [],
   "source": []
  }
 ],
 "metadata": {
  "kernelspec": {
   "display_name": "gpt_internal",
   "language": "python",
   "name": "python3"
  },
  "language_info": {
   "codemirror_mode": {
    "name": "ipython",
    "version": 3
   },
   "file_extension": ".py",
   "mimetype": "text/x-python",
   "name": "python",
   "nbconvert_exporter": "python",
   "pygments_lexer": "ipython3",
   "version": "3.8.16"
  },
  "orig_nbformat": 4,
  "vscode": {
   "interpreter": {
    "hash": "9a69aed433f78bdbaa1031a10bab526cdfa1dbc3ff073dbbe1cac511584a9ba8"
   }
  }
 },
 "nbformat": 4,
 "nbformat_minor": 2
}
