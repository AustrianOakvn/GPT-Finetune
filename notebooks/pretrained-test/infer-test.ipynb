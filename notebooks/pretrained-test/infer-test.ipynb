{
 "cells": [
  {
   "cell_type": "code",
   "execution_count": 1,
   "metadata": {},
   "outputs": [
    {
     "name": "stderr",
     "output_type": "stream",
     "text": [
      "c:\\Users\\HOANGBH\\miniconda3\\envs\\gpt_internal\\lib\\site-packages\\tqdm\\auto.py:22: TqdmWarning: IProgress not found. Please update jupyter and ipywidgets. See https://ipywidgets.readthedocs.io/en/stable/user_install.html\n",
      "  from .autonotebook import tqdm as notebook_tqdm\n"
     ]
    }
   ],
   "source": [
    "import torch\n",
    "from transformers import GPT2Tokenizer, GPT2LMHeadModel"
   ]
  },
  {
   "cell_type": "code",
   "execution_count": 26,
   "metadata": {},
   "outputs": [
    {
     "name": "stdout",
     "output_type": "stream",
     "text": [
      "None\n"
     ]
    }
   ],
   "source": [
    "tokenizer = GPT2Tokenizer.from_pretrained('NlpHUST/gpt2-vietnamese')\n",
    "# tokenizer.add_special_tokens({'pad_token': '<|pad|>'})\n",
    "model = GPT2LMHeadModel.from_pretrained('NlpHUST/gpt2-vietnamese')"
   ]
  },
  {
   "cell_type": "code",
   "execution_count": 32,
   "metadata": {},
   "outputs": [
    {
     "name": "stdout",
     "output_type": "stream",
     "text": [
      "None\n"
     ]
    }
   ],
   "source": [
    "# print(model)\n",
    "tokenizer.pad_token = tokenizer.eos_token\n",
    "print(tokenizer.pad_token_id)"
   ]
  },
  {
   "cell_type": "code",
   "execution_count": 33,
   "metadata": {},
   "outputs": [],
   "source": [
    "text = \"Theo đuổi hạnh phúc\\n\"\n",
    "input_ids = tokenizer.encode(text, return_tensors='pt')\n",
    "# encodings_dicts = tokenizer(text, truncation=True, max_length=64, padding=True)\n",
    "# print(encodings_dicts)\n",
    "# print(tokenizer.convert_ids_to_tokens(encodings_dicts['input_ids']))\n",
    "# output = model.generate()"
   ]
  },
  {
   "cell_type": "code",
   "execution_count": 15,
   "metadata": {},
   "outputs": [
    {
     "name": "stdout",
     "output_type": "stream",
     "text": [
      "None\n"
     ]
    }
   ],
   "source": [
    "# print(encodings_dicts)\n",
    "print(tokenizer.eos_token_id)"
   ]
  },
  {
   "cell_type": "code",
   "execution_count": 34,
   "metadata": {},
   "outputs": [
    {
     "name": "stderr",
     "output_type": "stream",
     "text": [
      "The attention mask and the pad token id were not set. As a consequence, you may observe unexpected behavior. Please pass your input's `attention_mask` to obtain reliable results.\n",
      "Setting `pad_token_id` to `eos_token_id`:50256 for open-end generation.\n"
     ]
    },
    {
     "name": "stdout",
     "output_type": "stream",
     "text": [
      ">> Generated text 1\n",
      "\n",
      "Theo đuổi hạnh phúc\n",
      "Trong thời gian gần đây, cư dân mạng liên tục chia sẻ những hình ảnh hài hước về tình yêu, cuộc sống gia đình của cặp đôi này.\n",
      "Theo đó, trong một bài đăng trên trang cá nhân của mình, vợ chồng Lý Hải - Minh Hà bất ngờ đăng tải những khoảnh khắc vui vẻ bên nhau. Đặc biệt, người hâm mộ còn bắt gặp cả hai tay trong tay đi dạo cùng nhau tại khu vực phố đi bộ Hồ Gươm (Hà Nội).\n",
      "\n",
      "---\n",
      ">> Generated text 2\n",
      "\n",
      "Theo đuổi hạnh phúc\n",
      "(Kiến Thức) - Theo một nghiên cứu mới đây của các nhà khoa học thuộc Đại học Harvard (Mỹ) cho biết, những người thường xuyên tập thể dục thường có nguy cơ mắc bệnh tim mạch thấp hơn so với người không thể tập luyện.\n",
      "Theo các chuyên gia y tế, việc luyện tập quá sức có thể gây ra những tác hại nghiêm trọng đối với sức khỏe. Ảnh minh họa\n",
      "Nghiên cứu này được thực hiện trên 1.000 người đàn ông\n",
      "\n",
      "---\n",
      ">> Generated text 3\n",
      "\n",
      "Theo đuổi hạnh phúc\n",
      "Một trong những nguyên nhân quan trọng nhất dẫn đến sự đổ vỡ trong hôn nhân chính là sự bất hòa giữa hai vợ chồng. Sự bất đồng trong quan điểm sống, suy nghĩ và cách nhìn nhận vấn đề đã khiến hai người không thể hòa hợp trong cuộc sống gia đình.\n",
      "Theo các chuyên gia tâm lý, những người phụ nữ có xu hướng đổ lỗi cho người chồng của mình quá nhiều. Họ cho rằng, người vợ không phải lúc nào cũng cảm thấy hạnh\n",
      "\n",
      "---\n"
     ]
    }
   ],
   "source": [
    "# text = \"Việt Nam là quốc gia có\"\n",
    "# input_ids = tokenizer.encode(text, return_tensors='pt')\n",
    "max_length = 100\n",
    "\n",
    "sample_outputs = model.generate(input_ids,pad_token_id=tokenizer.pad_token_id,\n",
    "                                   do_sample=True,\n",
    "                                   max_length=max_length,\n",
    "                                   min_length=max_length,\n",
    "                                   top_k=40,\n",
    "                                   num_beams=5,\n",
    "                                   early_stopping=True,\n",
    "                                   no_repeat_ngram_size=2,\n",
    "                                   num_return_sequences=3)\n",
    "\n",
    "for i, sample_output in enumerate(sample_outputs):\n",
    "    print(\">> Generated text {}\\n\\n{}\".format(i+1, tokenizer.decode(sample_output.tolist())))\n",
    "    print('\\n---')"
   ]
  },
  {
   "cell_type": "code",
   "execution_count": null,
   "metadata": {},
   "outputs": [],
   "source": []
  }
 ],
 "metadata": {
  "kernelspec": {
   "display_name": "gpt_internal",
   "language": "python",
   "name": "python3"
  },
  "language_info": {
   "codemirror_mode": {
    "name": "ipython",
    "version": 3
   },
   "file_extension": ".py",
   "mimetype": "text/x-python",
   "name": "python",
   "nbconvert_exporter": "python",
   "pygments_lexer": "ipython3",
   "version": "3.8.16"
  },
  "orig_nbformat": 4,
  "vscode": {
   "interpreter": {
    "hash": "9a69aed433f78bdbaa1031a10bab526cdfa1dbc3ff073dbbe1cac511584a9ba8"
   }
  }
 },
 "nbformat": 4,
 "nbformat_minor": 2
}
